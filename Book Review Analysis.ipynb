{
 "cells": [
  {
   "cell_type": "markdown",
   "id": "0bf461a5-01c6-4169-9fed-2156b3e12c8b",
   "metadata": {},
   "source": [
    "# Books Review Analysis"
   ]
  },
  {
   "cell_type": "code",
   "execution_count": 1,
   "id": "aac3e0f8-0afd-4d31-a8d6-4a634da80983",
   "metadata": {},
   "outputs": [],
   "source": [
    "import re\n",
    "import pandas as pd\n",
    "import gensim\n",
    "import gensim.corpora as corpora\n",
    "from gensim.utils import simple_preprocess\n",
    "from gensim.models import CoherenceModel\n",
    "import nltk\n",
    "from nltk.corpus import stopwords\n",
    "from nltk.stem import WordNetLemmatizer"
   ]
  },
  {
   "cell_type": "code",
   "execution_count": 2,
   "id": "f6830696-0a48-47b5-bd3f-24d7a45e7ef1",
   "metadata": {},
   "outputs": [
    {
     "name": "stderr",
     "output_type": "stream",
     "text": [
      "[nltk_data] Downloading package stopwords to nltk_data/...\n",
      "[nltk_data]   Package stopwords is already up-to-date!\n",
      "[nltk_data] Downloading package wordnet to nltk_data/...\n",
      "[nltk_data]   Package wordnet is already up-to-date!\n"
     ]
    },
    {
     "data": {
      "text/plain": [
       "True"
      ]
     },
     "execution_count": 2,
     "metadata": {},
     "output_type": "execute_result"
    }
   ],
   "source": [
    "# Set the download directory\n",
    "download_path = 'nltk_data/'\n",
    "nltk.data.path.append(download_path)\n",
    "\n",
    "\n",
    "nltk.download('stopwords', download_dir=download_path)\n",
    "nltk.download('wordnet', download_dir=download_path)"
   ]
  },
  {
   "cell_type": "code",
   "execution_count": 3,
   "id": "1f422b53-0ee5-4eb8-ad11-b7296502b229",
   "metadata": {},
   "outputs": [],
   "source": [
    "# load reviews dataset\n",
    "df = pd.read_csv(\"books_review_data.csv\")"
   ]
  },
  {
   "cell_type": "code",
   "execution_count": 4,
   "id": "73fe0a55-bbf9-4173-a597-40eca800e899",
   "metadata": {},
   "outputs": [
    {
     "data": {
      "text/html": [
       "<div>\n",
       "<style scoped>\n",
       "    .dataframe tbody tr th:only-of-type {\n",
       "        vertical-align: middle;\n",
       "    }\n",
       "\n",
       "    .dataframe tbody tr th {\n",
       "        vertical-align: top;\n",
       "    }\n",
       "\n",
       "    .dataframe thead th {\n",
       "        text-align: right;\n",
       "    }\n",
       "</style>\n",
       "<table border=\"1\" class=\"dataframe\">\n",
       "  <thead>\n",
       "    <tr style=\"text-align: right;\">\n",
       "      <th></th>\n",
       "      <th>Unnamed: 0</th>\n",
       "      <th>user_id</th>\n",
       "      <th>book_id</th>\n",
       "      <th>title</th>\n",
       "      <th>description</th>\n",
       "      <th>authors</th>\n",
       "      <th>genres</th>\n",
       "      <th>rating</th>\n",
       "      <th>review_text</th>\n",
       "    </tr>\n",
       "  </thead>\n",
       "  <tbody>\n",
       "    <tr>\n",
       "      <th>0</th>\n",
       "      <td>3</td>\n",
       "      <td>b6eb81c5d09dfe232397ced641e67993</td>\n",
       "      <td>6066819</td>\n",
       "      <td>Best Friends Forever</td>\n",
       "      <td>Addie Downs and Valerie Adler were eight when ...</td>\n",
       "      <td>[{'author_id': '9212', 'role': ''}]</td>\n",
       "      <td>['fiction', 'romance', 'mystery', 'thriller', ...</td>\n",
       "      <td>4.0</td>\n",
       "      <td>This one started off a little slow for me, but...</td>\n",
       "    </tr>\n",
       "    <tr>\n",
       "      <th>1</th>\n",
       "      <td>4</td>\n",
       "      <td>5fc1ce83384da46a1bf7d1dedd667835</td>\n",
       "      <td>6066819</td>\n",
       "      <td>Best Friends Forever</td>\n",
       "      <td>Addie Downs and Valerie Adler were eight when ...</td>\n",
       "      <td>[{'author_id': '9212', 'role': ''}]</td>\n",
       "      <td>['fiction', 'romance', 'mystery', 'thriller', ...</td>\n",
       "      <td>4.0</td>\n",
       "      <td>A very fun and warm story about friendship.</td>\n",
       "    </tr>\n",
       "    <tr>\n",
       "      <th>2</th>\n",
       "      <td>5</td>\n",
       "      <td>ea5552d66af8bc21751d8709312e995e</td>\n",
       "      <td>6066819</td>\n",
       "      <td>Best Friends Forever</td>\n",
       "      <td>Addie Downs and Valerie Adler were eight when ...</td>\n",
       "      <td>[{'author_id': '9212', 'role': ''}]</td>\n",
       "      <td>['fiction', 'romance', 'mystery', 'thriller', ...</td>\n",
       "      <td>3.0</td>\n",
       "      <td>I read this book just a bit over a year ago, a...</td>\n",
       "    </tr>\n",
       "    <tr>\n",
       "      <th>3</th>\n",
       "      <td>6</td>\n",
       "      <td>8b7918e98865ad26e7d1145b27d92710</td>\n",
       "      <td>6066819</td>\n",
       "      <td>Best Friends Forever</td>\n",
       "      <td>Addie Downs and Valerie Adler were eight when ...</td>\n",
       "      <td>[{'author_id': '9212', 'role': ''}]</td>\n",
       "      <td>['fiction', 'romance', 'mystery', 'thriller', ...</td>\n",
       "      <td>3.0</td>\n",
       "      <td>Pretty good book, I liked it, although not as ...</td>\n",
       "    </tr>\n",
       "    <tr>\n",
       "      <th>4</th>\n",
       "      <td>7</td>\n",
       "      <td>5b2eabd1f414f65a271c720f9ec8bc2a</td>\n",
       "      <td>6066819</td>\n",
       "      <td>Best Friends Forever</td>\n",
       "      <td>Addie Downs and Valerie Adler were eight when ...</td>\n",
       "      <td>[{'author_id': '9212', 'role': ''}]</td>\n",
       "      <td>['fiction', 'romance', 'mystery', 'thriller', ...</td>\n",
       "      <td>2.0</td>\n",
       "      <td>Book Bingo - June, July, August release. \\n I'...</td>\n",
       "    </tr>\n",
       "  </tbody>\n",
       "</table>\n",
       "</div>"
      ],
      "text/plain": [
       "   Unnamed: 0                           user_id  book_id  \\\n",
       "0           3  b6eb81c5d09dfe232397ced641e67993  6066819   \n",
       "1           4  5fc1ce83384da46a1bf7d1dedd667835  6066819   \n",
       "2           5  ea5552d66af8bc21751d8709312e995e  6066819   \n",
       "3           6  8b7918e98865ad26e7d1145b27d92710  6066819   \n",
       "4           7  5b2eabd1f414f65a271c720f9ec8bc2a  6066819   \n",
       "\n",
       "                  title                                        description  \\\n",
       "0  Best Friends Forever  Addie Downs and Valerie Adler were eight when ...   \n",
       "1  Best Friends Forever  Addie Downs and Valerie Adler were eight when ...   \n",
       "2  Best Friends Forever  Addie Downs and Valerie Adler were eight when ...   \n",
       "3  Best Friends Forever  Addie Downs and Valerie Adler were eight when ...   \n",
       "4  Best Friends Forever  Addie Downs and Valerie Adler were eight when ...   \n",
       "\n",
       "                               authors  \\\n",
       "0  [{'author_id': '9212', 'role': ''}]   \n",
       "1  [{'author_id': '9212', 'role': ''}]   \n",
       "2  [{'author_id': '9212', 'role': ''}]   \n",
       "3  [{'author_id': '9212', 'role': ''}]   \n",
       "4  [{'author_id': '9212', 'role': ''}]   \n",
       "\n",
       "                                              genres  rating  \\\n",
       "0  ['fiction', 'romance', 'mystery', 'thriller', ...     4.0   \n",
       "1  ['fiction', 'romance', 'mystery', 'thriller', ...     4.0   \n",
       "2  ['fiction', 'romance', 'mystery', 'thriller', ...     3.0   \n",
       "3  ['fiction', 'romance', 'mystery', 'thriller', ...     3.0   \n",
       "4  ['fiction', 'romance', 'mystery', 'thriller', ...     2.0   \n",
       "\n",
       "                                         review_text  \n",
       "0  This one started off a little slow for me, but...  \n",
       "1        A very fun and warm story about friendship.  \n",
       "2  I read this book just a bit over a year ago, a...  \n",
       "3  Pretty good book, I liked it, although not as ...  \n",
       "4  Book Bingo - June, July, August release. \\n I'...  "
      ]
     },
     "execution_count": 4,
     "metadata": {},
     "output_type": "execute_result"
    }
   ],
   "source": [
    "df.head()"
   ]
  },
  {
   "cell_type": "markdown",
   "id": "d6fae5a7-bb95-44ea-83ef-afb49ebc554f",
   "metadata": {},
   "source": [
    "## 1. Pre-processing"
   ]
  },
  {
   "cell_type": "code",
   "execution_count": 5,
   "id": "b0a0bf67-5823-479e-b01f-018581bebdc9",
   "metadata": {},
   "outputs": [],
   "source": [
    "\"\"\"\n",
    "    Remove \\r and \\n and replace by a space\n",
    "\"\"\"\n",
    "def replace_and_remove_by_space(string):\n",
    "    replacements = {\"\\r\": \" \", \"\\n\": \" \"}\n",
    "    for old, new in replacements.items():\n",
    "        string = string.replace(old, new)\n",
    "    string = re.sub(r'\\s+', ' ', string.strip())\n",
    "    return string"
   ]
  },
  {
   "cell_type": "code",
   "execution_count": 6,
   "id": "3cc0a3d9-f273-404d-b8c0-5ab86257db0a",
   "metadata": {},
   "outputs": [],
   "source": [
    "\"\"\"\n",
    "    Remove URLs\n",
    "\"\"\"\n",
    "def remove_urls(text):\n",
    "    if isinstance(text, str):\n",
    "        return re.sub(r'\\bhttp\\S+', '', text)\n",
    "    return text"
   ]
  },
  {
   "cell_type": "code",
   "execution_count": 7,
   "id": "00833db8-c9af-422b-ada7-10a1d2175d79",
   "metadata": {},
   "outputs": [],
   "source": [
    "\"\"\"\n",
    "    Remove emoji characters\n",
    "\"\"\"\n",
    "def remove_emoji_like_characters(text):\n",
    "    return [re.sub(r'[^\\x00-\\x7F]', '', x) for x in text]"
   ]
  },
  {
   "cell_type": "code",
   "execution_count": 8,
   "id": "59123c47-9589-4b9f-8732-76e5da880dc4",
   "metadata": {},
   "outputs": [],
   "source": [
    "\"\"\"\n",
    "    Remove \\n, \\r, and extra spaces\n",
    "    Remove URLs if exists\n",
    "    Remove emojis if exists\n",
    "\"\"\"\n",
    "def preprocess_text(text):\n",
    "    # Convert to lowercase\n",
    "    text = text.lower()\n",
    "    \n",
    "    # Replace \\n, \\r and remove extra spaces\n",
    "    text = replace_and_remove_by_space(text)\n",
    "    \n",
    "    # Remove URLs\n",
    "    text = remove_urls(text)\n",
    "    \n",
    "    # Remove emojis\n",
    "    text = remove_emoji_like_characters(text)\n",
    "    text = ''.join(text)\n",
    "    \n",
    "    return text"
   ]
  },
  {
   "cell_type": "code",
   "execution_count": 9,
   "id": "addbcc25-1048-46eb-99a5-f205fa104362",
   "metadata": {},
   "outputs": [
    {
     "data": {
      "text/plain": [
       "\"This one started off a little slow for me, but I did get into it, and I really enjoyed it in the end. I didn't connect with Addie quite like I did Cannie in Good in Bed, but I did find her story compelling. And as someone with her own BFF, I could really relate to the history of their friendship, even if it was interrupted in the middle of it. \\n Another winner from Jennifer Weiner!\""
      ]
     },
     "execution_count": 9,
     "metadata": {},
     "output_type": "execute_result"
    }
   ],
   "source": [
    "df.iloc[0]['review_text']"
   ]
  },
  {
   "cell_type": "code",
   "execution_count": 10,
   "id": "2dd98a3b-e658-4f9a-8b24-c05f3ea3bc13",
   "metadata": {},
   "outputs": [],
   "source": [
    "cleaned_text = preprocess_text(df.iloc[0]['review_text'])"
   ]
  },
  {
   "cell_type": "code",
   "execution_count": 11,
   "id": "12e9aa53-a608-45dd-81cf-292736afb367",
   "metadata": {},
   "outputs": [
    {
     "data": {
      "text/plain": [
       "\"this one started off a little slow for me, but i did get into it, and i really enjoyed it in the end. i didn't connect with addie quite like i did cannie in good in bed, but i did find her story compelling. and as someone with her own bff, i could really relate to the history of their friendship, even if it was interrupted in the middle of it. another winner from jennifer weiner!\""
      ]
     },
     "execution_count": 11,
     "metadata": {},
     "output_type": "execute_result"
    }
   ],
   "source": [
    "cleaned_text"
   ]
  },
  {
   "cell_type": "markdown",
   "id": "c16aa747-54e2-46cb-b2b3-b8c8687406d9",
   "metadata": {},
   "source": [
    "## 2. Lematize and Tokenizing"
   ]
  },
  {
   "cell_type": "code",
   "execution_count": 12,
   "id": "d4870a41-3049-401f-ae59-7be19d5034c7",
   "metadata": {},
   "outputs": [],
   "source": [
    "# init word lemmatizer\n",
    "lemmatizer = WordNetLemmatizer()"
   ]
  },
  {
   "cell_type": "code",
   "execution_count": 13,
   "id": "50a593c4-830d-4916-a59c-d6fbe0ec18d2",
   "metadata": {},
   "outputs": [],
   "source": [
    "\"\"\"\n",
    "    Tokenize texts\n",
    "    Remove stop words\n",
    "\"\"\"\n",
    "def tokenize_text(text):\n",
    "    stop_words = stopwords.words('english')\n",
    "\n",
    "    # Remove punctuations and lowercase\n",
    "    words = nltk.word_tokenize(text)\n",
    "    words = [word.lower() for word in words if word.isalpha() or word.isspace()]\n",
    "\n",
    "    # Remove stopwords and lemmatize \n",
    "    tokens = [lemmatizer.lemmatize(word) for word in words if word not in stop_words]\n",
    "\n",
    "    # Bigrams, Trigrams \n",
    "    bigram_mod = gensim.models.phrases.Phraser(gensim.models.Phrases(tokens, min_count=5, threshold=100))\n",
    "    trigram_mod = gensim.models.phrases.Phraser(gensim.models.Phrases(bigram_mod[tokens], threshold=100))\n",
    "\n",
    "    return trigram_mod[bigram_mod[tokens]]"
   ]
  },
  {
   "cell_type": "code",
   "execution_count": 14,
   "id": "61922408-21a7-4917-92ce-ac2c749d9274",
   "metadata": {},
   "outputs": [
    {
     "data": {
      "text/plain": [
       "['one',\n",
       " 'started',\n",
       " 'little',\n",
       " 'slow',\n",
       " 'get',\n",
       " 'really',\n",
       " 'enjoyed',\n",
       " 'end',\n",
       " 'connect',\n",
       " 'addie',\n",
       " 'quite',\n",
       " 'like',\n",
       " 'cannie',\n",
       " 'good',\n",
       " 'bed',\n",
       " 'find',\n",
       " 'story',\n",
       " 'compelling',\n",
       " 'someone',\n",
       " 'bff',\n",
       " 'could',\n",
       " 'really',\n",
       " 'relate',\n",
       " 'history',\n",
       " 'friendship',\n",
       " 'even',\n",
       " 'interrupted',\n",
       " 'middle',\n",
       " 'another',\n",
       " 'winner',\n",
       " 'jennifer',\n",
       " 'weiner']"
      ]
     },
     "execution_count": 14,
     "metadata": {},
     "output_type": "execute_result"
    }
   ],
   "source": [
    "tokenize_text(cleaned_text)"
   ]
  },
  {
   "cell_type": "markdown",
   "id": "188d5fd4-8951-4ace-a95a-4cebb7b56e3d",
   "metadata": {},
   "source": [
    "### Example"
   ]
  },
  {
   "cell_type": "code",
   "execution_count": 15,
   "id": "467dd983-3fdf-41b9-bfa6-42c5603831d9",
   "metadata": {},
   "outputs": [
    {
     "data": {
      "text/plain": [
       "['fun', 'warm', 'story', 'friendship']"
      ]
     },
     "execution_count": 15,
     "metadata": {},
     "output_type": "execute_result"
    }
   ],
   "source": [
    "tokenize_text(preprocess_text(df.iloc[1]['review_text']))"
   ]
  },
  {
   "cell_type": "code",
   "execution_count": 16,
   "id": "20510f5c-6686-48f6-a784-a3b0da003ade",
   "metadata": {},
   "outputs": [
    {
     "data": {
      "text/plain": [
       "['novel',\n",
       " 'fire',\n",
       " 'okay',\n",
       " 'really',\n",
       " 'fire',\n",
       " 'said',\n",
       " 'fire',\n",
       " 'effect',\n",
       " 'woman',\n",
       " 'liked',\n",
       " 'nothing',\n",
       " 'earth',\n",
       " 'shattering',\n",
       " 'still',\n",
       " 'enjoyable',\n",
       " 'feeling',\n",
       " 'though',\n",
       " 'easily',\n",
       " 'forgotten']"
      ]
     },
     "execution_count": 16,
     "metadata": {},
     "output_type": "execute_result"
    }
   ],
   "source": [
    "tokenize_text(preprocess_text(df.iloc[100]['review_text']))"
   ]
  },
  {
   "cell_type": "markdown",
   "id": "6aa46583-c9f1-4e02-8b1f-0dec0bab680f",
   "metadata": {},
   "source": [
    "## 3. LDA"
   ]
  },
  {
   "cell_type": "markdown",
   "id": "b5e6a473-2fbb-4066-b518-066a07434312",
   "metadata": {},
   "source": [
    "### Book ID: 6066819"
   ]
  },
  {
   "cell_type": "code",
   "execution_count": 17,
   "id": "e9f28cc6-71d2-4067-976c-cb64ce466639",
   "metadata": {},
   "outputs": [],
   "source": [
    "book_6066819 = df[df['book_id'] == 6066819]"
   ]
  },
  {
   "cell_type": "code",
   "execution_count": 18,
   "id": "b203a96a-f7f7-4d75-be75-a976a29572e9",
   "metadata": {},
   "outputs": [
    {
     "data": {
      "text/html": [
       "<div>\n",
       "<style scoped>\n",
       "    .dataframe tbody tr th:only-of-type {\n",
       "        vertical-align: middle;\n",
       "    }\n",
       "\n",
       "    .dataframe tbody tr th {\n",
       "        vertical-align: top;\n",
       "    }\n",
       "\n",
       "    .dataframe thead th {\n",
       "        text-align: right;\n",
       "    }\n",
       "</style>\n",
       "<table border=\"1\" class=\"dataframe\">\n",
       "  <thead>\n",
       "    <tr style=\"text-align: right;\">\n",
       "      <th></th>\n",
       "      <th>Unnamed: 0</th>\n",
       "      <th>user_id</th>\n",
       "      <th>book_id</th>\n",
       "      <th>title</th>\n",
       "      <th>description</th>\n",
       "      <th>authors</th>\n",
       "      <th>genres</th>\n",
       "      <th>rating</th>\n",
       "      <th>review_text</th>\n",
       "    </tr>\n",
       "  </thead>\n",
       "  <tbody>\n",
       "    <tr>\n",
       "      <th>0</th>\n",
       "      <td>3</td>\n",
       "      <td>b6eb81c5d09dfe232397ced641e67993</td>\n",
       "      <td>6066819</td>\n",
       "      <td>Best Friends Forever</td>\n",
       "      <td>Addie Downs and Valerie Adler were eight when ...</td>\n",
       "      <td>[{'author_id': '9212', 'role': ''}]</td>\n",
       "      <td>['fiction', 'romance', 'mystery', 'thriller', ...</td>\n",
       "      <td>4.0</td>\n",
       "      <td>This one started off a little slow for me, but...</td>\n",
       "    </tr>\n",
       "    <tr>\n",
       "      <th>1</th>\n",
       "      <td>4</td>\n",
       "      <td>5fc1ce83384da46a1bf7d1dedd667835</td>\n",
       "      <td>6066819</td>\n",
       "      <td>Best Friends Forever</td>\n",
       "      <td>Addie Downs and Valerie Adler were eight when ...</td>\n",
       "      <td>[{'author_id': '9212', 'role': ''}]</td>\n",
       "      <td>['fiction', 'romance', 'mystery', 'thriller', ...</td>\n",
       "      <td>4.0</td>\n",
       "      <td>A very fun and warm story about friendship.</td>\n",
       "    </tr>\n",
       "    <tr>\n",
       "      <th>2</th>\n",
       "      <td>5</td>\n",
       "      <td>ea5552d66af8bc21751d8709312e995e</td>\n",
       "      <td>6066819</td>\n",
       "      <td>Best Friends Forever</td>\n",
       "      <td>Addie Downs and Valerie Adler were eight when ...</td>\n",
       "      <td>[{'author_id': '9212', 'role': ''}]</td>\n",
       "      <td>['fiction', 'romance', 'mystery', 'thriller', ...</td>\n",
       "      <td>3.0</td>\n",
       "      <td>I read this book just a bit over a year ago, a...</td>\n",
       "    </tr>\n",
       "    <tr>\n",
       "      <th>3</th>\n",
       "      <td>6</td>\n",
       "      <td>8b7918e98865ad26e7d1145b27d92710</td>\n",
       "      <td>6066819</td>\n",
       "      <td>Best Friends Forever</td>\n",
       "      <td>Addie Downs and Valerie Adler were eight when ...</td>\n",
       "      <td>[{'author_id': '9212', 'role': ''}]</td>\n",
       "      <td>['fiction', 'romance', 'mystery', 'thriller', ...</td>\n",
       "      <td>3.0</td>\n",
       "      <td>Pretty good book, I liked it, although not as ...</td>\n",
       "    </tr>\n",
       "    <tr>\n",
       "      <th>4</th>\n",
       "      <td>7</td>\n",
       "      <td>5b2eabd1f414f65a271c720f9ec8bc2a</td>\n",
       "      <td>6066819</td>\n",
       "      <td>Best Friends Forever</td>\n",
       "      <td>Addie Downs and Valerie Adler were eight when ...</td>\n",
       "      <td>[{'author_id': '9212', 'role': ''}]</td>\n",
       "      <td>['fiction', 'romance', 'mystery', 'thriller', ...</td>\n",
       "      <td>2.0</td>\n",
       "      <td>Book Bingo - June, July, August release. \\n I'...</td>\n",
       "    </tr>\n",
       "  </tbody>\n",
       "</table>\n",
       "</div>"
      ],
      "text/plain": [
       "   Unnamed: 0                           user_id  book_id  \\\n",
       "0           3  b6eb81c5d09dfe232397ced641e67993  6066819   \n",
       "1           4  5fc1ce83384da46a1bf7d1dedd667835  6066819   \n",
       "2           5  ea5552d66af8bc21751d8709312e995e  6066819   \n",
       "3           6  8b7918e98865ad26e7d1145b27d92710  6066819   \n",
       "4           7  5b2eabd1f414f65a271c720f9ec8bc2a  6066819   \n",
       "\n",
       "                  title                                        description  \\\n",
       "0  Best Friends Forever  Addie Downs and Valerie Adler were eight when ...   \n",
       "1  Best Friends Forever  Addie Downs and Valerie Adler were eight when ...   \n",
       "2  Best Friends Forever  Addie Downs and Valerie Adler were eight when ...   \n",
       "3  Best Friends Forever  Addie Downs and Valerie Adler were eight when ...   \n",
       "4  Best Friends Forever  Addie Downs and Valerie Adler were eight when ...   \n",
       "\n",
       "                               authors  \\\n",
       "0  [{'author_id': '9212', 'role': ''}]   \n",
       "1  [{'author_id': '9212', 'role': ''}]   \n",
       "2  [{'author_id': '9212', 'role': ''}]   \n",
       "3  [{'author_id': '9212', 'role': ''}]   \n",
       "4  [{'author_id': '9212', 'role': ''}]   \n",
       "\n",
       "                                              genres  rating  \\\n",
       "0  ['fiction', 'romance', 'mystery', 'thriller', ...     4.0   \n",
       "1  ['fiction', 'romance', 'mystery', 'thriller', ...     4.0   \n",
       "2  ['fiction', 'romance', 'mystery', 'thriller', ...     3.0   \n",
       "3  ['fiction', 'romance', 'mystery', 'thriller', ...     3.0   \n",
       "4  ['fiction', 'romance', 'mystery', 'thriller', ...     2.0   \n",
       "\n",
       "                                         review_text  \n",
       "0  This one started off a little slow for me, but...  \n",
       "1        A very fun and warm story about friendship.  \n",
       "2  I read this book just a bit over a year ago, a...  \n",
       "3  Pretty good book, I liked it, although not as ...  \n",
       "4  Book Bingo - June, July, August release. \\n I'...  "
      ]
     },
     "execution_count": 18,
     "metadata": {},
     "output_type": "execute_result"
    }
   ],
   "source": [
    "book_6066819.head()"
   ]
  },
  {
   "cell_type": "code",
   "execution_count": 19,
   "id": "70b1b98e-1458-4da6-8a59-9701eaf726e3",
   "metadata": {},
   "outputs": [
    {
     "data": {
      "text/html": [
       "<div>\n",
       "<style scoped>\n",
       "    .dataframe tbody tr th:only-of-type {\n",
       "        vertical-align: middle;\n",
       "    }\n",
       "\n",
       "    .dataframe tbody tr th {\n",
       "        vertical-align: top;\n",
       "    }\n",
       "\n",
       "    .dataframe thead th {\n",
       "        text-align: right;\n",
       "    }\n",
       "</style>\n",
       "<table border=\"1\" class=\"dataframe\">\n",
       "  <thead>\n",
       "    <tr style=\"text-align: right;\">\n",
       "      <th></th>\n",
       "      <th>Unnamed: 0</th>\n",
       "      <th>user_id</th>\n",
       "      <th>book_id</th>\n",
       "      <th>title</th>\n",
       "      <th>description</th>\n",
       "      <th>authors</th>\n",
       "      <th>genres</th>\n",
       "      <th>rating</th>\n",
       "      <th>review_text</th>\n",
       "    </tr>\n",
       "  </thead>\n",
       "  <tbody>\n",
       "    <tr>\n",
       "      <th>35</th>\n",
       "      <td>38</td>\n",
       "      <td>b033ace5e31330b8ffd48b06bcff7639</td>\n",
       "      <td>6066819</td>\n",
       "      <td>Best Friends Forever</td>\n",
       "      <td>Addie Downs and Valerie Adler were eight when ...</td>\n",
       "      <td>[{'author_id': '9212', 'role': ''}]</td>\n",
       "      <td>['fiction', 'romance', 'mystery', 'thriller', ...</td>\n",
       "      <td>3.0</td>\n",
       "      <td>With friends like these, who needs Dolce and G...</td>\n",
       "    </tr>\n",
       "    <tr>\n",
       "      <th>36</th>\n",
       "      <td>39</td>\n",
       "      <td>db16481f6458e27519ac164434bbc5b1</td>\n",
       "      <td>6066819</td>\n",
       "      <td>Best Friends Forever</td>\n",
       "      <td>Addie Downs and Valerie Adler were eight when ...</td>\n",
       "      <td>[{'author_id': '9212', 'role': ''}]</td>\n",
       "      <td>['fiction', 'romance', 'mystery', 'thriller', ...</td>\n",
       "      <td>5.0</td>\n",
       "      <td>I love Jennifer Weiner. I love the way she tel...</td>\n",
       "    </tr>\n",
       "    <tr>\n",
       "      <th>37</th>\n",
       "      <td>40</td>\n",
       "      <td>f764ae9635e4cfe625184ec68e19e2a8</td>\n",
       "      <td>6066819</td>\n",
       "      <td>Best Friends Forever</td>\n",
       "      <td>Addie Downs and Valerie Adler were eight when ...</td>\n",
       "      <td>[{'author_id': '9212', 'role': ''}]</td>\n",
       "      <td>['fiction', 'romance', 'mystery', 'thriller', ...</td>\n",
       "      <td>2.0</td>\n",
       "      <td>I really like Jennifer Weiner, but there were ...</td>\n",
       "    </tr>\n",
       "    <tr>\n",
       "      <th>38</th>\n",
       "      <td>41</td>\n",
       "      <td>54597a6a00b6e3a8f8a87d47e0905fac</td>\n",
       "      <td>6066819</td>\n",
       "      <td>Best Friends Forever</td>\n",
       "      <td>Addie Downs and Valerie Adler were eight when ...</td>\n",
       "      <td>[{'author_id': '9212', 'role': ''}]</td>\n",
       "      <td>['fiction', 'romance', 'mystery', 'thriller', ...</td>\n",
       "      <td>1.0</td>\n",
       "      <td>Pretty much a waste of time.</td>\n",
       "    </tr>\n",
       "    <tr>\n",
       "      <th>39</th>\n",
       "      <td>42</td>\n",
       "      <td>fd40226f05728370d29891e41e35faef</td>\n",
       "      <td>6066819</td>\n",
       "      <td>Best Friends Forever</td>\n",
       "      <td>Addie Downs and Valerie Adler were eight when ...</td>\n",
       "      <td>[{'author_id': '9212', 'role': ''}]</td>\n",
       "      <td>['fiction', 'romance', 'mystery', 'thriller', ...</td>\n",
       "      <td>1.0</td>\n",
       "      <td>I got board with this one and since I put it d...</td>\n",
       "    </tr>\n",
       "  </tbody>\n",
       "</table>\n",
       "</div>"
      ],
      "text/plain": [
       "    Unnamed: 0                           user_id  book_id  \\\n",
       "35          38  b033ace5e31330b8ffd48b06bcff7639  6066819   \n",
       "36          39  db16481f6458e27519ac164434bbc5b1  6066819   \n",
       "37          40  f764ae9635e4cfe625184ec68e19e2a8  6066819   \n",
       "38          41  54597a6a00b6e3a8f8a87d47e0905fac  6066819   \n",
       "39          42  fd40226f05728370d29891e41e35faef  6066819   \n",
       "\n",
       "                   title                                        description  \\\n",
       "35  Best Friends Forever  Addie Downs and Valerie Adler were eight when ...   \n",
       "36  Best Friends Forever  Addie Downs and Valerie Adler were eight when ...   \n",
       "37  Best Friends Forever  Addie Downs and Valerie Adler were eight when ...   \n",
       "38  Best Friends Forever  Addie Downs and Valerie Adler were eight when ...   \n",
       "39  Best Friends Forever  Addie Downs and Valerie Adler were eight when ...   \n",
       "\n",
       "                                authors  \\\n",
       "35  [{'author_id': '9212', 'role': ''}]   \n",
       "36  [{'author_id': '9212', 'role': ''}]   \n",
       "37  [{'author_id': '9212', 'role': ''}]   \n",
       "38  [{'author_id': '9212', 'role': ''}]   \n",
       "39  [{'author_id': '9212', 'role': ''}]   \n",
       "\n",
       "                                               genres  rating  \\\n",
       "35  ['fiction', 'romance', 'mystery', 'thriller', ...     3.0   \n",
       "36  ['fiction', 'romance', 'mystery', 'thriller', ...     5.0   \n",
       "37  ['fiction', 'romance', 'mystery', 'thriller', ...     2.0   \n",
       "38  ['fiction', 'romance', 'mystery', 'thriller', ...     1.0   \n",
       "39  ['fiction', 'romance', 'mystery', 'thriller', ...     1.0   \n",
       "\n",
       "                                          review_text  \n",
       "35  With friends like these, who needs Dolce and G...  \n",
       "36  I love Jennifer Weiner. I love the way she tel...  \n",
       "37  I really like Jennifer Weiner, but there were ...  \n",
       "38                       Pretty much a waste of time.  \n",
       "39  I got board with this one and since I put it d...  "
      ]
     },
     "execution_count": 19,
     "metadata": {},
     "output_type": "execute_result"
    }
   ],
   "source": [
    "book_6066819.tail()"
   ]
  },
  {
   "cell_type": "code",
   "execution_count": 20,
   "id": "d9019c86-f704-4cc7-a753-8859d7eff81e",
   "metadata": {},
   "outputs": [],
   "source": [
    "book_6066819_reviews = book_6066819['review_text'].to_list()"
   ]
  },
  {
   "cell_type": "code",
   "execution_count": 21,
   "id": "a5afbb44-c2ec-4149-ae18-5a7b2e7c8b02",
   "metadata": {},
   "outputs": [
    {
     "name": "stdout",
     "output_type": "stream",
     "text": [
      "Number of books reviews for 6066819 : 40\n"
     ]
    }
   ],
   "source": [
    "print(f\"Number of books reviews for 6066819 : {len(book_6066819_reviews)}\")"
   ]
  },
  {
   "cell_type": "code",
   "execution_count": 22,
   "id": "54eebcd9-e3d8-4d4c-9c01-833387ca3c35",
   "metadata": {},
   "outputs": [],
   "source": [
    "def preprocess_reviews(df):\n",
    "    book_reviews = df['review_text']\n",
    "    return [tokenize_text(preprocess_text(review)) for review in book_reviews]"
   ]
  },
  {
   "cell_type": "code",
   "execution_count": 23,
   "id": "f94fa118-ee79-41c0-b4af-c9e180837736",
   "metadata": {},
   "outputs": [],
   "source": [
    "# pre-processed book reviews\n",
    "preprocessed_book_6066819 = preprocess_reviews(book_6066819)"
   ]
  },
  {
   "cell_type": "code",
   "execution_count": 24,
   "id": "0e4e773d-85a2-445c-95a5-ad81d016d5fa",
   "metadata": {},
   "outputs": [],
   "source": [
    "dictionary = corpora.Dictionary(preprocessed_book_6066819)\n",
    "corpus = [dictionary.doc2bow(text) for text in preprocessed_book_6066819]"
   ]
  },
  {
   "cell_type": "code",
   "execution_count": 32,
   "id": "625afa3b-7ca8-4bb0-8b86-47c9e97690d0",
   "metadata": {},
   "outputs": [],
   "source": [
    "\"\"\"\n",
    " Find optimal number of topics\n",
    "\"\"\"\n",
    "def find_optimal_topics(processed_data, dictionary, corpus):\n",
    "    coherence_values = []\n",
    "    model_list = []\n",
    "    graph = []\n",
    "\n",
    "    for num_topics in range(2, 6): # Test a range of topic numbers\n",
    "        lda_model = gensim.models.LdaMulticore(\n",
    "            corpus=corpus, id2word=dictionary, num_topics=num_topics, random_state=100\n",
    "        )\n",
    "        model_list.append(lda_model)\n",
    "        coherencemodel = CoherenceModel(model=lda_model, texts=processed_data, dictionary=dictionary, coherence='c_v')\n",
    "        coherence_values.append(coherencemodel.get_coherence())\n",
    "        graph.append([num_topics, coherencemodel.get_coherence()])\n",
    "        \n",
    "    return model_list, coherence_values, graph"
   ]
  },
  {
   "cell_type": "code",
   "execution_count": 33,
   "id": "e40b2c6a-3a49-445f-9843-96cdebe91df5",
   "metadata": {},
   "outputs": [],
   "source": [
    "# Find optimal number of topics\n",
    "model_list, coherence_values, graph = find_optimal_topics(preprocessed_book_6066819, dictionary, corpus)"
   ]
  },
  {
   "cell_type": "code",
   "execution_count": 34,
   "id": "1c4444c3-ba3f-45a4-893d-1607534f33bf",
   "metadata": {},
   "outputs": [
    {
     "name": "stdout",
     "output_type": "stream",
     "text": [
      "[0.30028803950715555, 0.2849000900792013, 0.3572894518623623, 0.37136923330686356]\n"
     ]
    }
   ],
   "source": [
    "print(coherence_values)"
   ]
  },
  {
   "cell_type": "code",
   "execution_count": 35,
   "id": "88dc1d78-4472-44ab-941e-91ad18842264",
   "metadata": {},
   "outputs": [
    {
     "name": "stdout",
     "output_type": "stream",
     "text": [
      "[[2, 0.30028803950715555], [3, 0.2849000900792013], [4, 0.3572894518623623], [5, 0.37136923330686356]]\n"
     ]
    }
   ],
   "source": [
    "print(graph)"
   ]
  },
  {
   "cell_type": "code",
   "execution_count": 36,
   "id": "a81a9572-d4b7-4883-b551-70d1d33a9e08",
   "metadata": {},
   "outputs": [
    {
     "data": {
      "image/png": "[encoded data removed]",
      "text/plain": [
       "<Figure size 800x600 with 1 Axes>"
      ]
     },
     "metadata": {},
     "output_type": "display_data"
    }
   ],
   "source": [
    "import matplotlib.pyplot as plt\n",
    "\n",
    "num_topics = [x[0] for x in graph]\n",
    "coherence_values = [x[1] for x in graph]\n",
    "\n",
    "plt.figure(figsize=(8, 6))\n",
    "\n",
    "plt.xlabel(\"Number of topics (k)\")\n",
    "plt.ylabel(\"Coherence value\")\n",
    "plt.title(\"Coherence value vs Number of topics\")\n",
    "\n",
    "plt.plot(num_topics, coherence_values)  # Plot the data\n",
    "\n",
    "plt.grid(True)\n",
    "plt.show()"
   ]
  },
  {
   "cell_type": "code",
   "execution_count": 37,
   "id": "380ffee3-38c5-404f-8389-a3c457184ceb",
   "metadata": {},
   "outputs": [],
   "source": [
    "# Select the model with the highest coherence score\n",
    "optimal_model = model_list[coherence_values.index(max(coherence_values))]"
   ]
  },
  {
   "cell_type": "code",
   "execution_count": 38,
   "id": "92349d33-e388-4d11-9107-1123cb52effc",
   "metadata": {},
   "outputs": [],
   "source": [
    "\"\"\"\n",
    "    List topics\n",
    "\"\"\"\n",
    "def list_topics(lda_model):\n",
    "    for idx, topic in lda_model.print_topics(-1):\n",
    "        print(f\"Topic: {idx} \\nWords: {topic}\")"
   ]
  },
  {
   "cell_type": "code",
   "execution_count": 39,
   "id": "147629e1-ef70-4a76-adc6-2c3e9e461743",
   "metadata": {},
   "outputs": [
    {
     "name": "stdout",
     "output_type": "stream",
     "text": [
      "Topic: 0 \n",
      "Words: 0.018*\"book\" + 0.013*\"character\" + 0.013*\"addie\" + 0.013*\"story\" + 0.012*\"love\" + 0.011*\"valerie\" + 0.011*\"weiner\" + 0.010*\"still\" + 0.009*\"friend\" + 0.009*\"best\"\n",
      "Topic: 1 \n",
      "Words: 0.024*\"book\" + 0.017*\"one\" + 0.017*\"story\" + 0.014*\"really\" + 0.013*\"weiner\" + 0.012*\"addie\" + 0.012*\"read\" + 0.011*\"end\" + 0.010*\"character\" + 0.009*\"know\"\n",
      "Topic: 2 \n",
      "Words: 0.018*\"book\" + 0.014*\"read\" + 0.008*\"enjoyed\" + 0.008*\"better\" + 0.008*\"story\" + 0.008*\"weiner\" + 0.007*\"addie\" + 0.007*\"know\" + 0.007*\"home\" + 0.006*\"really\"\n",
      "Topic: 3 \n",
      "Words: 0.034*\"addie\" + 0.034*\"valerie\" + 0.016*\"book\" + 0.015*\"read\" + 0.013*\"friend\" + 0.012*\"weiner\" + 0.011*\"story\" + 0.010*\"good\" + 0.010*\"school\" + 0.009*\"really\"\n",
      "Topic: 4 \n",
      "Words: 0.024*\"story\" + 0.021*\"book\" + 0.016*\"like\" + 0.010*\"weiner\" + 0.010*\"one\" + 0.010*\"addie\" + 0.010*\"friend\" + 0.010*\"writing\" + 0.009*\"jennifer\" + 0.008*\"good\"\n"
     ]
    }
   ],
   "source": [
    "list_topics(optimal_model)"
   ]
  },
  {
   "cell_type": "code",
   "execution_count": 40,
   "id": "21a51125-cb62-4b91-8879-6983704ec4ac",
   "metadata": {},
   "outputs": [
    {
     "name": "stdout",
     "output_type": "stream",
     "text": [
      "book, 0.018\n",
      "character, 0.013\n",
      "addie, 0.013\n",
      "story, 0.013\n",
      "love, 0.012\n",
      "valerie, 0.011\n",
      "weiner, 0.011\n",
      "still, 0.01\n",
      "friend, 0.009\n",
      "best, 0.009\n",
      "\n",
      "book, 0.024\n",
      "one, 0.017\n",
      "story, 0.017\n",
      "really, 0.014\n",
      "weiner, 0.013\n",
      "addie, 0.012\n",
      "read, 0.012\n",
      "end, 0.011\n",
      "character, 0.01\n",
      "know, 0.009\n",
      "\n",
      "book, 0.018\n",
      "read, 0.014\n",
      "enjoyed, 0.008\n",
      "better, 0.008\n",
      "story, 0.008\n",
      "weiner, 0.008\n",
      "addie, 0.007\n",
      "know, 0.007\n",
      "home, 0.007\n",
      "really, 0.006\n",
      "\n",
      "addie, 0.034\n",
      "valerie, 0.034\n",
      "book, 0.016\n",
      "read, 0.015\n",
      "friend, 0.013\n",
      "weiner, 0.012\n",
      "story, 0.011\n",
      "good, 0.01\n",
      "school, 0.01\n",
      "really, 0.009\n",
      "\n",
      "story, 0.024\n",
      "book, 0.021\n",
      "like, 0.016\n",
      "weiner, 0.01\n",
      "one, 0.01\n",
      "addie, 0.01\n",
      "friend, 0.01\n",
      "writing, 0.01\n",
      "jennifer, 0.009\n",
      "good, 0.008\n",
      "\n"
     ]
    }
   ],
   "source": [
    "for topic_id, topic in optimal_model.print_topics(-1):\n",
    "    for word_prob_pair in topic.split(\" + \"):  \n",
    "        prob, word = word_prob_pair.split(\"*\")\n",
    "        word = word.replace('\"', '')  \n",
    "        prob = float(prob)\n",
    "\n",
    "        print(f\"{word}, {prob}\")\n",
    "    print() \n"
   ]
  }
 ],
 "metadata": {
  "kernelspec": {
   "display_name": "Python 3 (ipykernel)",
   "language": "python",
   "name": "python3"
  },
  "language_info": {
   "codemirror_mode": {
    "name": "ipython",
    "version": 3
   },
   "file_extension": ".py",
   "mimetype": "text/x-python",
   "name": "python",
   "nbconvert_exporter": "python",
   "pygments_lexer": "ipython3",
   "version": "3.10.9"
  }
 },
 "nbformat": 4,
 "nbformat_minor": 5
}
